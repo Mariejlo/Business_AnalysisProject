{
 "cells": [
  {
   "cell_type": "code",
   "execution_count": 2,
   "metadata": {},
   "outputs": [
    {
     "name": "stdout",
     "output_type": "stream",
     "text": [
      "Python executable: c:\\Users\\mjlri\\miniconda3\\envs\\gentoo_pdf\\python.exe\n",
      "Python paths: ['c:\\\\Users\\\\mjlri\\\\miniconda3\\\\envs\\\\gentoo_pdf\\\\python312.zip', 'c:\\\\Users\\\\mjlri\\\\miniconda3\\\\envs\\\\gentoo_pdf\\\\DLLs', 'c:\\\\Users\\\\mjlri\\\\miniconda3\\\\envs\\\\gentoo_pdf\\\\Lib', 'c:\\\\Users\\\\mjlri\\\\miniconda3\\\\envs\\\\gentoo_pdf', '', 'c:\\\\Users\\\\mjlri\\\\miniconda3\\\\envs\\\\gentoo_pdf\\\\Lib\\\\site-packages', 'c:\\\\Users\\\\mjlri\\\\miniconda3\\\\envs\\\\gentoo_pdf\\\\Lib\\\\site-packages\\\\win32', 'c:\\\\Users\\\\mjlri\\\\miniconda3\\\\envs\\\\gentoo_pdf\\\\Lib\\\\site-packages\\\\win32\\\\lib', 'c:\\\\Users\\\\mjlri\\\\miniconda3\\\\envs\\\\gentoo_pdf\\\\Lib\\\\site-packages\\\\Pythonwin', 'c:\\\\Users\\\\mjlri\\\\miniconda3\\\\envs\\\\gentoo_pdf\\\\Lib\\\\site-packages\\\\setuptools\\\\_vendor']\n"
     ]
    }
   ],
   "source": [
    "import sys\n",
    "print(\"Python executable:\", sys.executable)\n",
    "print(\"Python paths:\", sys.path)"
   ]
  },
  {
   "cell_type": "code",
   "execution_count": 3,
   "metadata": {},
   "outputs": [],
   "source": [
    "import pandas as pd\n",
    "import openpyxl  # Import openpyxl"
   ]
  },
  {
   "cell_type": "code",
   "execution_count": 5,
   "metadata": {},
   "outputs": [
    {
     "name": "stdout",
     "output_type": "stream",
     "text": [
      "['Account Data', 'Project & Task Data', 'Project Manager Data']\n"
     ]
    }
   ],
   "source": [
    "# Load the Excel file\n",
    "file_path = 'C:/Users/mjlri/Data_analytics_projects/Blue Road Academy_case.xlsx'\n",
    "\n",
    "excel_data = pd.ExcelFile(file_path, engine='openpyxl')\n",
    "\n",
    "# Print the sheet names\n",
    "print(excel_data.sheet_names)"
   ]
  },
  {
   "cell_type": "code",
   "execution_count": 6,
   "metadata": {},
   "outputs": [
    {
     "name": "stdout",
     "output_type": "stream",
     "text": [
      "          Company Name     Industry sector    Project\n",
      "0  1 & 1 Versatel GmbH  Telecommunications    Pending\n",
      "1  1 & 1 Versatel GmbH  Telecommunications  Cancelled\n",
      "2       Aareal Bank AG             Banking    Pending\n",
      "3       Aareal Bank AG             Banking         No\n",
      "4               Abbott          Healthcare        Yes\n",
      "                           Accounts Industry sector Project Status  \\\n",
      "0                   Autoneum Brasil      Automotive            Yes   \n",
      "1           FAURECIA Czech republic      Automotive            Yes   \n",
      "2              General Motors China      Automotive            Yes   \n",
      "3                    Goodyear Chile      Automotive        Pending   \n",
      "4  Abbott Laboratories South Africa      Healthcare      Cancelled   \n",
      "\n",
      "   Project Year  Number of Tasks  Task Status  \n",
      "0          2022               10         Done  \n",
      "1          2022                3         Done  \n",
      "2          2022                4         Done  \n",
      "3          2022                3  Not started  \n",
      "4          2019                4  In progress  \n",
      "           Project Name (Account + Year)  Who is the Project Manager?  \\\n",
      "0                   Autoneum Brasil 2022                          NaN   \n",
      "1           FAURECIA Czech republic 2022                          NaN   \n",
      "2              General Motors China 2022                          NaN   \n",
      "3                    Goodyear Chile 2022                          NaN   \n",
      "4  Abbott Laboratories South Africa 2019                          NaN   \n",
      "\n",
      "   Unnamed: 2                  Unnamed: 3 Unnamed: 4  \n",
      "0         NaN  Project Manager Assignment        NaN  \n",
      "1         NaN                   Chemicals        Pam  \n",
      "2         NaN                          IT        Bob  \n",
      "3         NaN  Consumer Good and Services        Pam  \n",
      "4         NaN                  Healthcare        Deb  \n"
     ]
    }
   ],
   "source": [
    "# Load individual sheets into DataFrames\n",
    "account_data = pd.read_excel(file_path, sheet_name='Account Data')\n",
    "project_task_data = pd.read_excel(file_path, sheet_name='Project & Task Data')\n",
    "project_manager_data = pd.read_excel(file_path, sheet_name='Project Manager Data')\n",
    "\n",
    "# Display the first few rows of each DataFrame to understand the structure\n",
    "print(account_data.head())\n",
    "print(project_task_data.head())\n",
    "print(project_manager_data.head())"
   ]
  },
  {
   "cell_type": "code",
   "execution_count": 7,
   "metadata": {},
   "outputs": [
    {
     "name": "stdout",
     "output_type": "stream",
     "text": [
      "Number of unique accounts: 396\n"
     ]
    }
   ],
   "source": [
    "#Q1. How many unique accounts do we have? \n",
    "unique_accounts = account_data['Company Name'].nunique()\n",
    "print(f\"Number of unique accounts: {unique_accounts}\")"
   ]
  },
  {
   "cell_type": "code",
   "execution_count": 8,
   "metadata": {},
   "outputs": [
    {
     "name": "stdout",
     "output_type": "stream",
     "text": [
      "Industry sectors represented: ['Telecommunications' 'Banking' 'Healthcare' 'Professional Services'\n",
      " 'Engineering' 'Retail' 'Chemicals' 'Food and Beverages'\n",
      " 'Financial Services' 'IT' 'Construction' 'Energy' 'FMCG'\n",
      " 'Transport and Logistics' 'Electronics' 'Automotive' 'Cosmetics'\n",
      " 'Real Estate' 'Manufacturing' 'Public Sector' 'Media and Advertising' nan]\n"
     ]
    }
   ],
   "source": [
    "#Q2, Which idnustry sectors are represented by these Accounts?\n",
    "unique_industries = account_data['Industry sector'].unique()\n",
    "print(f\"Industry sectors represented: {unique_industries}\")"
   ]
  },
  {
   "cell_type": "code",
   "execution_count": 10,
   "metadata": {},
   "outputs": [
    {
     "name": "stdout",
     "output_type": "stream",
     "text": [
      "Active accounts: 242\n",
      "Total active projects: 263\n"
     ]
    }
   ],
   "source": [
    "#Q3. How many Accounts and Projects are considered Active (Yes or Pending)?, filter data Yes or Pending\n",
    "active_projects = account_data[account_data['Project'].isin(['Yes', 'Pending'])]\n",
    "num_active_accounts = active_projects['Company Name'].nunique()\n",
    "num_active_projects = active_projects.shape[0]\n",
    "print(f\"Active accounts: {num_active_accounts}\")\n",
    "print(f\"Total active projects: {num_active_projects}\")"
   ]
  },
  {
   "cell_type": "code",
   "execution_count": 11,
   "metadata": {},
   "outputs": [
    {
     "name": "stdout",
     "output_type": "stream",
     "text": [
      "Inactive accounts: 240\n",
      "Total inactive projects: 273\n"
     ]
    }
   ],
   "source": [
    "#Q4. How many Accounts and Projects are considered Inactive (No or Cancelled)?\n",
    "inactive_projects = account_data[account_data['Project'].isin(['No', 'Cancelled'])]\n",
    "num_inactive_accounts = inactive_projects['Company Name'].nunique()\n",
    "num_inactive_projects = inactive_projects.shape[0]\n",
    "print(f\"Inactive accounts: {num_inactive_accounts}\")\n",
    "print(f\"Total inactive projects: {num_inactive_projects}\")\n"
   ]
  },
  {
   "cell_type": "code",
   "execution_count": 14,
   "metadata": {},
   "outputs": [
    {
     "name": "stdout",
     "output_type": "stream",
     "text": [
      "Active projects per year:\n",
      "Project Year\n",
      "2014     2\n",
      "2016     4\n",
      "2017    35\n",
      "2019    30\n",
      "2020    24\n",
      "2021    35\n",
      "2022    66\n",
      "dtype: int64\n"
     ]
    }
   ],
   "source": [
    "#Q5. How many Active Projects do we have per Year?\n",
    "active_projects_per_year = project_task_data[project_task_data['Project Status'].isin(['Yes', 'Pending'])]\n",
    "projects_by_year = active_projects_per_year.groupby('Project Year').size()\n",
    "\n",
    "print(f\"Active projects per year:\\n{projects_by_year}\")"
   ]
  },
  {
   "cell_type": "code",
   "execution_count": 15,
   "metadata": {},
   "outputs": [
    {
     "name": "stdout",
     "output_type": "stream",
     "text": [
      "Average tasks per project: 4.18639798488665\n"
     ]
    }
   ],
   "source": [
    "#Q6.  How many Tasks do we have per Project?\n",
    "avg_tasks_per_project = project_task_data['Number of Tasks'].mean()\n",
    "\n",
    "print(f\"Average tasks per project: {avg_tasks_per_project}\")"
   ]
  },
  {
   "cell_type": "code",
   "execution_count": 16,
   "metadata": {},
   "outputs": [
    {
     "name": "stdout",
     "output_type": "stream",
     "text": [
      "Projects assigned per manager:\n",
      "Series([], Name: count, dtype: int64)\n"
     ]
    }
   ],
   "source": [
    "#Q7. How many Projects are assigned to each Project Manager?\n",
    "projects_per_manager = project_manager_data['Who is the Project Manager?'].value_counts()\n",
    "print(f\"Projects assigned per manager:\\n{projects_per_manager}\")"
   ]
  },
  {
   "cell_type": "code",
   "execution_count": null,
   "metadata": {},
   "outputs": [],
   "source": [
    "#Q8.What assumptions have you made in your analysis?\n",
    " # Duplicate accounts: If there are multiple rows for the same company with different projects, it can be assumed that each row represents a unique project.\n",
    "# Missing values: If there are any missing values, one might assume that those accounts or projects should not be considered in the analysis.\n",
    "# Active projects: I may have considered \"Yes\" and \"Pending\" as active projects, while ignoring \"No\" or \"Cancelled\".\n",
    "# Project manager assignments: If a project manager isn’t assigned to a project, it might have excluded those projects from the counts."
   ]
  },
  {
   "cell_type": "code",
   "execution_count": null,
   "metadata": {},
   "outputs": [],
   "source": [
    "#Q9.Is there data missing that you think should be included in the spreadsheet?\n",
    "#Project start and end dates: Having both dates would help track project duration and completion timelines.\n",
    "#Project budgets: Including financial information would allow for an analysis of project cost vs performance.\n",
    "#Client feedback: Feedback data could be valuable for assessing the success of projects based on client satisfaction.\n",
    "#Resource allocation: Having details about how resources (people, budget, time) are allocated per project could provide deeper insights.\n"
   ]
  },
  {
   "cell_type": "code",
   "execution_count": null,
   "metadata": {},
   "outputs": [],
   "source": [
    "#Q10. What recommendations do you have for the business to ensure data quality and integrity when moving to a new platform like Salesforce?\n",
    "#Data Cleansing, Data Validation Rules, Data Governance, Data Migration Plan,Ongoing Data Quality Monitoring,  "
   ]
  }
 ],
 "metadata": {
  "kernelspec": {
   "display_name": "gentoo_pdf",
   "language": "python",
   "name": "python3"
  },
  "language_info": {
   "codemirror_mode": {
    "name": "ipython",
    "version": 3
   },
   "file_extension": ".py",
   "mimetype": "text/x-python",
   "name": "python",
   "nbconvert_exporter": "python",
   "pygments_lexer": "ipython3",
   "version": "3.12.4"
  }
 },
 "nbformat": 4,
 "nbformat_minor": 2
}
