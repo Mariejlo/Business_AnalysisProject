{
 "cells": [
  {
   "cell_type": "code",
   "execution_count": 46,
   "metadata": {},
   "outputs": [
    {
     "name": "stdout",
     "output_type": "stream",
     "text": [
      "Python executable: c:\\Users\\mjlri\\miniconda3\\envs\\gentoo_pdf\\python.exe\n",
      "Python paths: ['c:\\\\Users\\\\mjlri\\\\miniconda3\\\\envs\\\\gentoo_pdf\\\\python312.zip', 'c:\\\\Users\\\\mjlri\\\\miniconda3\\\\envs\\\\gentoo_pdf\\\\DLLs', 'c:\\\\Users\\\\mjlri\\\\miniconda3\\\\envs\\\\gentoo_pdf\\\\Lib', 'c:\\\\Users\\\\mjlri\\\\miniconda3\\\\envs\\\\gentoo_pdf', '', 'c:\\\\Users\\\\mjlri\\\\miniconda3\\\\envs\\\\gentoo_pdf\\\\Lib\\\\site-packages', 'c:\\\\Users\\\\mjlri\\\\miniconda3\\\\envs\\\\gentoo_pdf\\\\Lib\\\\site-packages\\\\win32', 'c:\\\\Users\\\\mjlri\\\\miniconda3\\\\envs\\\\gentoo_pdf\\\\Lib\\\\site-packages\\\\win32\\\\lib', 'c:\\\\Users\\\\mjlri\\\\miniconda3\\\\envs\\\\gentoo_pdf\\\\Lib\\\\site-packages\\\\Pythonwin', 'c:\\\\Users\\\\mjlri\\\\miniconda3\\\\envs\\\\gentoo_pdf\\\\Lib\\\\site-packages\\\\setuptools\\\\_vendor']\n"
     ]
    }
   ],
   "source": [
    "import sys\n",
    "print(\"Python executable:\", sys.executable)\n",
    "print(\"Python paths:\", sys.path)"
   ]
  },
  {
   "cell_type": "code",
   "execution_count": 47,
   "metadata": {},
   "outputs": [],
   "source": [
    "import pandas as pd\n",
    "import openpyxl  # Import openpyxl"
   ]
  },
  {
   "cell_type": "code",
   "execution_count": 48,
   "metadata": {},
   "outputs": [
    {
     "name": "stdout",
     "output_type": "stream",
     "text": [
      "['Account Data', 'Project & Task Data', 'Project Manager Data']\n"
     ]
    }
   ],
   "source": [
    "# Load the Excel file\n",
    "file_path = 'C:/Users/mjlri/Data_analytics_projects/Blue Road Academy_case.xlsx'\n",
    "\n",
    "excel_data = pd.ExcelFile(file_path, engine='openpyxl')\n",
    "\n",
    "# Print the sheet names\n",
    "print(excel_data.sheet_names)"
   ]
  },
  {
   "cell_type": "code",
   "execution_count": 50,
   "metadata": {},
   "outputs": [
    {
     "name": "stdout",
     "output_type": "stream",
     "text": [
      "          Company Name     Industry sector    Project\n",
      "0  1 & 1 Versatel GmbH  Telecommunications    Pending\n",
      "1  1 & 1 Versatel GmbH  Telecommunications  Cancelled\n",
      "2       Aareal Bank AG             Banking    Pending\n",
      "3       Aareal Bank AG             Banking         No\n",
      "4               Abbott          Healthcare        Yes\n",
      "                           Accounts Industry sector Project Status  \\\n",
      "0                   Autoneum Brasil      Automotive            Yes   \n",
      "1           FAURECIA Czech republic      Automotive            Yes   \n",
      "2              General Motors China      Automotive            Yes   \n",
      "3                    Goodyear Chile      Automotive        Pending   \n",
      "4  Abbott Laboratories South Africa      Healthcare      Cancelled   \n",
      "\n",
      "   Project Year  Number of Tasks  Task Status  \n",
      "0          2022               10         Done  \n",
      "1          2022                3         Done  \n",
      "2          2022                4         Done  \n",
      "3          2022                3  Not started  \n",
      "4          2019                4  In progress  \n",
      "           Project Name (Account + Year)  Who is the Project Manager?  \\\n",
      "0                   Autoneum Brasil 2022                          NaN   \n",
      "1           FAURECIA Czech republic 2022                          NaN   \n",
      "2              General Motors China 2022                          NaN   \n",
      "3                    Goodyear Chile 2022                          NaN   \n",
      "4  Abbott Laboratories South Africa 2019                          NaN   \n",
      "\n",
      "   Unnamed: 2                  Unnamed: 3 Unnamed: 4  \n",
      "0         NaN  Project Manager Assignment        NaN  \n",
      "1         NaN                   Chemicals        Pam  \n",
      "2         NaN                          IT        Bob  \n",
      "3         NaN  Consumer Good and Services        Pam  \n",
      "4         NaN                  Healthcare        Deb  \n"
     ]
    }
   ],
   "source": [
    "# Load individual sheets into DataFrames\n",
    "account_data = pd.read_excel(file_path, sheet_name='Account Data')\n",
    "project_task_data = pd.read_excel(file_path, sheet_name='Project & Task Data')\n",
    "project_manager_data = pd.read_excel(file_path, sheet_name='Project Manager Data')\n",
    "\n",
    "# Display the first few rows of each DataFrame to understand the structure\n",
    "print(account_data.head())\n",
    "print(project_task_data.head())\n",
    "print(project_manager_data.head())"
   ]
  },
  {
   "cell_type": "code",
   "execution_count": 51,
   "metadata": {},
   "outputs": [
    {
     "name": "stdout",
     "output_type": "stream",
     "text": [
      "Number of unique accounts: 396\n"
     ]
    }
   ],
   "source": [
    "#Q1. How many unique accounts do we have? \n",
    "unique_accounts = account_data['Company Name'].nunique()\n",
    "print(f\"Number of unique accounts: {unique_accounts}\")"
   ]
  },
  {
   "cell_type": "code",
   "execution_count": 52,
   "metadata": {},
   "outputs": [
    {
     "name": "stdout",
     "output_type": "stream",
     "text": [
      "Industry sectors represented: ['Telecommunications' 'Banking' 'Healthcare' 'Professional Services'\n",
      " 'Engineering' 'Retail' 'Chemicals' 'Food and Beverages'\n",
      " 'Financial Services' 'IT' 'Construction' 'Energy' 'FMCG'\n",
      " 'Transport and Logistics' 'Electronics' 'Automotive' 'Cosmetics'\n",
      " 'Real Estate' 'Manufacturing' 'Public Sector' 'Media and Advertising' nan]\n"
     ]
    }
   ],
   "source": [
    "#Q2, Which idnustry sectors are represented by these Accounts?\n",
    "unique_industries = account_data['Industry sector'].unique()\n",
    "print(f\"Industry sectors represented: {unique_industries}\")"
   ]
  },
  {
   "cell_type": "code",
   "execution_count": 53,
   "metadata": {},
   "outputs": [
    {
     "name": "stdout",
     "output_type": "stream",
     "text": [
      "Active accounts: 242\n",
      "Total active projects: 263\n"
     ]
    }
   ],
   "source": [
    "#Q3. How many Accounts and Projects are considered Active (Yes or Pending)?, filter data Yes or Pending\n",
    "active_projects = account_data[account_data['Project'].isin(['Yes', 'Pending'])]\n",
    "num_active_accounts = active_projects['Company Name'].nunique()\n",
    "num_active_projects = active_projects.shape[0]\n",
    "print(f\"Active accounts: {num_active_accounts}\")\n",
    "print(f\"Total active projects: {num_active_projects}\")"
   ]
  },
  {
   "cell_type": "code",
   "execution_count": 54,
   "metadata": {},
   "outputs": [
    {
     "name": "stdout",
     "output_type": "stream",
     "text": [
      "Inactive accounts: 240\n",
      "Total inactive projects: 273\n"
     ]
    }
   ],
   "source": [
    "#Q4. How many Accounts and Projects are considered Inactive (No or Cancelled)?\n",
    "inactive_projects = account_data[account_data['Project'].isin(['No', 'Cancelled'])]\n",
    "num_inactive_accounts = inactive_projects['Company Name'].nunique()\n",
    "num_inactive_projects = inactive_projects.shape[0]\n",
    "print(f\"Inactive accounts: {num_inactive_accounts}\")\n",
    "print(f\"Total inactive projects: {num_inactive_projects}\")\n"
   ]
  }
 ],
 "metadata": {
  "kernelspec": {
   "display_name": "gentoo_pdf",
   "language": "python",
   "name": "python3"
  },
  "language_info": {
   "codemirror_mode": {
    "name": "ipython",
    "version": 3
   },
   "file_extension": ".py",
   "mimetype": "text/x-python",
   "name": "python",
   "nbconvert_exporter": "python",
   "pygments_lexer": "ipython3",
   "version": "3.12.4"
  }
 },
 "nbformat": 4,
 "nbformat_minor": 2
}
